{
 "cells": [
  {
   "cell_type": "markdown",
   "metadata": {},
   "source": [
    "# Learning Python\n",
    "\n",
    "## 1.1. Basics"
   ]
  },
  {
   "cell_type": "code",
   "execution_count": 1,
   "metadata": {},
   "outputs": [
    {
     "name": "stdout",
     "output_type": "stream",
     "text": [
      "Hello world!\n"
     ]
    }
   ],
   "source": [
    "print(\"Hello world!\")"
   ]
  },
  {
   "cell_type": "code",
   "execution_count": 2,
   "metadata": {},
   "outputs": [
    {
     "data": {
      "text/plain": [
       "4"
      ]
     },
     "execution_count": 2,
     "metadata": {},
     "output_type": "execute_result"
    }
   ],
   "source": [
    "2+2"
   ]
  },
  {
   "cell_type": "code",
   "execution_count": 3,
   "metadata": {},
   "outputs": [
    {
     "name": "stdout",
     "output_type": "stream",
     "text": [
      "Hello world!\n"
     ]
    }
   ],
   "source": [
    "def main():                     #def is a keyword that defines a function\n",
    "    print(\"Hello world!\")       #function\n",
    "main()                          #calling the function"
   ]
  },
  {
   "cell_type": "markdown",
   "metadata": {},
   "source": [
    "## 1.2. Variables"
   ]
  },
  {
   "cell_type": "code",
   "execution_count": 4,
   "metadata": {},
   "outputs": [
    {
     "name": "stdout",
     "output_type": "stream",
     "text": [
      "0\n"
     ]
    }
   ],
   "source": [
    "f=0                             #defining a variable\n",
    "print(f)                        #calling the print function to print out the variable"
   ]
  },
  {
   "cell_type": "code",
   "execution_count": 5,
   "metadata": {},
   "outputs": [
    {
     "name": "stdout",
     "output_type": "stream",
     "text": [
      "abc\n"
     ]
    }
   ],
   "source": [
    "f=\"abc\"\n",
    "print(f)"
   ]
  },
  {
   "cell_type": "code",
   "execution_count": 6,
   "metadata": {},
   "outputs": [
    {
     "name": "stdout",
     "output_type": "stream",
     "text": [
      "this is a string123\n"
     ]
    }
   ],
   "source": [
    "print(\"this is a string\" + \"123\")"
   ]
  },
  {
   "cell_type": "code",
   "execution_count": 7,
   "metadata": {},
   "outputs": [
    {
     "name": "stdout",
     "output_type": "stream",
     "text": [
      "this is a string 123\n"
     ]
    }
   ],
   "source": [
    "print(\"this is a string\", \"123\")"
   ]
  },
  {
   "cell_type": "code",
   "execution_count": 8,
   "metadata": {},
   "outputs": [
    {
     "name": "stdout",
     "output_type": "stream",
     "text": [
      "this is a string 123\n"
     ]
    }
   ],
   "source": [
    "print(\"this is a string\", 123)"
   ]
  },
  {
   "cell_type": "code",
   "execution_count": 9,
   "metadata": {},
   "outputs": [
    {
     "name": "stdout",
     "output_type": "stream",
     "text": [
      "this is a string 123\n"
     ]
    }
   ],
   "source": [
    "print(\"this is a string\", str(123))"
   ]
  },
  {
   "cell_type": "markdown",
   "metadata": {},
   "source": [
    "## 1.3. Functions"
   ]
  },
  {
   "cell_type": "code",
   "execution_count": 10,
   "metadata": {},
   "outputs": [
    {
     "name": "stdout",
     "output_type": "stream",
     "text": [
      "I am a function\n"
     ]
    }
   ],
   "source": [
    "def function1():                          #defining a function\n",
    "    print(\"I am a function\")\n",
    "function1()                               #executing function"
   ]
  },
  {
   "cell_type": "code",
   "execution_count": 11,
   "metadata": {},
   "outputs": [
    {
     "name": "stdout",
     "output_type": "stream",
     "text": [
      "20   30\n"
     ]
    }
   ],
   "source": [
    "def function2(arg1, arg2):                #function with arguments\n",
    "    print(arg1, \" \", arg2)\n",
    "function2(20,30)"
   ]
  },
  {
   "cell_type": "code",
   "execution_count": 12,
   "metadata": {},
   "outputs": [
    {
     "data": {
      "text/plain": [
       "27"
      ]
     },
     "execution_count": 12,
     "metadata": {},
     "output_type": "execute_result"
    }
   ],
   "source": [
    "def cube(x):                              #function that returns a value\n",
    "    return x*x*x\n",
    "cube(3)"
   ]
  },
  {
   "cell_type": "code",
   "execution_count": 13,
   "metadata": {},
   "outputs": [
    {
     "name": "stdout",
     "output_type": "stream",
     "text": [
      "43\n"
     ]
    }
   ],
   "source": [
    "def multi_add(*args):                    #multiple variable function\n",
    "    result=0\n",
    "    for x in args:\n",
    "        result=result+x\n",
    "    return result\n",
    "\n",
    "print(multi_add(4,5,10,24))"
   ]
  },
  {
   "cell_type": "markdown",
   "metadata": {},
   "source": [
    "## 1.4. conditional structures"
   ]
  },
  {
   "cell_type": "code",
   "execution_count": 14,
   "metadata": {},
   "outputs": [
    {
     "name": "stdout",
     "output_type": "stream",
     "text": [
      "x is less than y\n"
     ]
    }
   ],
   "source": [
    "x=10\n",
    "y=100\n",
    "if (x<y):                               #condition (if statement)\n",
    "    st = \"x is less than y\"\n",
    "    \n",
    "print(st)"
   ]
  },
  {
   "cell_type": "code",
   "execution_count": 15,
   "metadata": {},
   "outputs": [
    {
     "name": "stdout",
     "output_type": "stream",
     "text": [
      "x is greater than y\n"
     ]
    }
   ],
   "source": [
    "x=100\n",
    "y=10\n",
    "if (x<y):                                #if first condition is not met we add alternative output (else statement)\n",
    "    st = \"x is less than y\"             \n",
    "else:\n",
    "    st =\"x is greater than y\" \n",
    "print(st)"
   ]
  },
  {
   "cell_type": "code",
   "execution_count": 16,
   "metadata": {},
   "outputs": [
    {
     "name": "stdout",
     "output_type": "stream",
     "text": [
      "x is equal to y\n"
     ]
    }
   ],
   "source": [
    "x=100\n",
    "y=100\n",
    "if (x<y):                                    #if first condition is not met, we can put another condition (elif statement)\n",
    "    st=\"x is less than y\"\n",
    "elif (x==y):\n",
    "    st=\"x is equal to y\"\n",
    "else:\n",
    "    st=\"x is greater than y\"\n",
    "print(st)"
   ]
  },
  {
   "cell_type": "markdown",
   "metadata": {},
   "source": [
    "## 1.5. Loops"
   ]
  },
  {
   "cell_type": "code",
   "execution_count": 1,
   "metadata": {},
   "outputs": [
    {
     "name": "stdout",
     "output_type": "stream",
     "text": [
      "0\n",
      "1\n",
      "2\n",
      "3\n",
      "4\n"
     ]
    }
   ],
   "source": [
    "x=0\n",
    "while (x<5):                       #while loop: python will keep executing outputs until it reaches the condition set in while loop function\n",
    "    print(x)\n",
    "    x=x+1"
   ]
  },
  {
   "cell_type": "code",
   "execution_count": 2,
   "metadata": {},
   "outputs": [
    {
     "name": "stdout",
     "output_type": "stream",
     "text": [
      "5\n",
      "6\n",
      "7\n",
      "8\n",
      "9\n"
     ]
    }
   ],
   "source": [
    "for x in range (5,10):              #for loop\n",
    "    print(x)"
   ]
  },
  {
   "cell_type": "code",
   "execution_count": 3,
   "metadata": {},
   "outputs": [
    {
     "name": "stdout",
     "output_type": "stream",
     "text": [
      "5\n",
      "6\n"
     ]
    }
   ],
   "source": [
    "for x in range(5,10):\n",
    "    if(x==7):break                   #loop will stop once it meets the condition\n",
    "    print(x)"
   ]
  },
  {
   "cell_type": "code",
   "execution_count": 4,
   "metadata": {},
   "outputs": [
    {
     "name": "stdout",
     "output_type": "stream",
     "text": [
      "0 Mon\n",
      "1 Tue\n",
      "2 Wed\n",
      "3 Thu\n",
      "4 Fri\n",
      "5 Sat\n",
      "6 Sun\n"
     ]
    }
   ],
   "source": [
    "days=[\"Mon\", \"Tue\", \"Wed\",\"Thu\",\"Fri\",\"Sat\",\"Sun\"]\n",
    "for i,d in enumerate(days):\n",
    "    print(i,d)                      #enumerating days of the week in for loop"
   ]
  },
  {
   "cell_type": "markdown",
   "metadata": {},
   "source": [
    "## 1.6. Classes"
   ]
  },
  {
   "cell_type": "code",
   "execution_count": 9,
   "metadata": {},
   "outputs": [
    {
     "name": "stdout",
     "output_type": "stream",
     "text": [
      "My Class 1\n",
      "My Class 2 This is a string\n"
     ]
    }
   ],
   "source": [
    "class myClass():\n",
    "    def method1(self):\n",
    "        print(\"My Class 1\")\n",
    "    \n",
    "    def method2(self, someString):\n",
    "        print(\"My Class 2 \" + someString)\n",
    "def main():\n",
    "    c=myClass()\n",
    "    c.method1()\n",
    "    c.method2(\"This is a string\")\n",
    "main()"
   ]
  },
  {
   "cell_type": "markdown",
   "metadata": {},
   "source": [
    "## 1.7. Time, Date and Datetime classes"
   ]
  },
  {
   "cell_type": "code",
   "execution_count": 10,
   "metadata": {},
   "outputs": [],
   "source": [
    "from datetime import date                     #libraries that manipulate dates and time\n",
    "from datetime import time\n",
    "from datetime import datetime"
   ]
  },
  {
   "cell_type": "code",
   "execution_count": 11,
   "metadata": {},
   "outputs": [
    {
     "name": "stdout",
     "output_type": "stream",
     "text": [
      "Today's date is:  2021-03-01\n"
     ]
    }
   ],
   "source": [
    "today=date.today()\n",
    "print(\"Today's date is: \", today)"
   ]
  },
  {
   "cell_type": "code",
   "execution_count": 12,
   "metadata": {},
   "outputs": [
    {
     "name": "stdout",
     "output_type": "stream",
     "text": [
      "Date components:  1 3 2021\n"
     ]
    }
   ],
   "source": [
    "print(\"Date components: \", today.day, today.month, today.year)"
   ]
  },
  {
   "cell_type": "code",
   "execution_count": 13,
   "metadata": {},
   "outputs": [
    {
     "name": "stdout",
     "output_type": "stream",
     "text": [
      "Today's weekday number is:  0\n",
      "Which is a:  Mon\n"
     ]
    }
   ],
   "source": [
    "print(\"Today's weekday number is: \", today.weekday())\n",
    "days=[\"Mon\", \"Tue\", \"Wed\", \"Thu\", \"Fri\", \"Sat\", \"Sun\"]\n",
    "print(\"Which is a: \", days[today.weekday()])"
   ]
  },
  {
   "cell_type": "code",
   "execution_count": 14,
   "metadata": {},
   "outputs": [
    {
     "name": "stdout",
     "output_type": "stream",
     "text": [
      "The current date and time is:  2021-03-01 06:10:14.383227\n"
     ]
    }
   ],
   "source": [
    "today=datetime.now()\n",
    "print(\"The current date and time is: \", today)"
   ]
  },
  {
   "cell_type": "code",
   "execution_count": 15,
   "metadata": {},
   "outputs": [
    {
     "name": "stdout",
     "output_type": "stream",
     "text": [
      "06:10:23.190643\n"
     ]
    }
   ],
   "source": [
    "t=datetime.time(datetime.now())\n",
    "print(t)"
   ]
  },
  {
   "cell_type": "markdown",
   "metadata": {},
   "source": [
    "## 1.7.1. Formatting Time Output"
   ]
  },
  {
   "cell_type": "code",
   "execution_count": 17,
   "metadata": {},
   "outputs": [
    {
     "name": "stdout",
     "output_type": "stream",
     "text": [
      "The current year is: 2021\n"
     ]
    }
   ],
   "source": [
    "now=datetime.now()\n",
    "print(now.strftime(\"The current year is: %Y\"))"
   ]
  },
  {
   "cell_type": "code",
   "execution_count": 18,
   "metadata": {},
   "outputs": [
    {
     "name": "stdout",
     "output_type": "stream",
     "text": [
      "Monday, 03/01/21, March, 2021\n"
     ]
    }
   ],
   "source": [
    "print(now.strftime(\"%A, %D, %B, %Y\"))"
   ]
  },
  {
   "cell_type": "code",
   "execution_count": 19,
   "metadata": {},
   "outputs": [
    {
     "name": "stdout",
     "output_type": "stream",
     "text": [
      "Mon, 01, Mar, 21\n"
     ]
    }
   ],
   "source": [
    "print(now.strftime(\"%a, %d, %b, %y\"))"
   ]
  },
  {
   "cell_type": "code",
   "execution_count": 20,
   "metadata": {},
   "outputs": [
    {
     "name": "stdout",
     "output_type": "stream",
     "text": [
      "Local date and time: Mon Mar  1 06:10:52 2021\n",
      "Local date: 03/01/21\n",
      "Local time: 06:10:52\n"
     ]
    }
   ],
   "source": [
    "print(now.strftime(\"Local date and time: %c\"))\n",
    "print(now.strftime(\"Local date: %x\"))\n",
    "print(now.strftime(\"Local time: %X\"))"
   ]
  },
  {
   "cell_type": "code",
   "execution_count": 21,
   "metadata": {},
   "outputs": [
    {
     "name": "stdout",
     "output_type": "stream",
     "text": [
      "Current time: 06:10:52 AM\n",
      "24-hour time: 06:10\n"
     ]
    }
   ],
   "source": [
    "print(now.strftime(\"Current time: %I:%M:%S %p\"))\n",
    "print(now.strftime(\"24-hour time: %H:%M\"))"
   ]
  },
  {
   "cell_type": "markdown",
   "metadata": {},
   "source": [
    "## 1.7.2. Using timedelta objects"
   ]
  },
  {
   "cell_type": "code",
   "execution_count": 22,
   "metadata": {},
   "outputs": [],
   "source": [
    "from datetime import timedelta                             #import timedelta module"
   ]
  },
  {
   "cell_type": "code",
   "execution_count": 23,
   "metadata": {},
   "outputs": [
    {
     "name": "stdout",
     "output_type": "stream",
     "text": [
      "365 days, 5:01:00\n"
     ]
    }
   ],
   "source": [
    "print(timedelta(days=365, hours=5, minutes=1))"
   ]
  },
  {
   "cell_type": "code",
   "execution_count": 24,
   "metadata": {},
   "outputs": [
    {
     "name": "stdout",
     "output_type": "stream",
     "text": [
      "today is: 2021-03-01 06:12:10.393353\n",
      "one year from now will be: 2022-03-01 06:12:10.393353\n"
     ]
    }
   ],
   "source": [
    "now=datetime.now()\n",
    "print(\"today is: \" + str(now))\n",
    "print(\"one year from now will be: \" + str(now+timedelta(days=365)))"
   ]
  },
  {
   "cell_type": "code",
   "execution_count": 25,
   "metadata": {},
   "outputs": [
    {
     "name": "stdout",
     "output_type": "stream",
     "text": [
      "In 2 days and 3 weeks it will be: 2021-03-24 06:12:10.393353\n"
     ]
    }
   ],
   "source": [
    "print(\"In 2 days and 3 weeks it will be: \" + str(now+timedelta(days=2, weeks=3)))"
   ]
  },
  {
   "cell_type": "code",
   "execution_count": 26,
   "metadata": {},
   "outputs": [
    {
     "name": "stdout",
     "output_type": "stream",
     "text": [
      "One week ago it was: 2021-02-22 06:12:10.393353\n"
     ]
    }
   ],
   "source": [
    "print(\"One week ago it was: \" + str(now-timedelta(weeks=1)))"
   ]
  },
  {
   "cell_type": "code",
   "execution_count": 27,
   "metadata": {},
   "outputs": [
    {
     "name": "stdout",
     "output_type": "stream",
     "text": [
      "One week ago it was: Monday, February, 02/22/21, 2021\n"
     ]
    }
   ],
   "source": [
    "t=datetime.now()-timedelta(weeks=1)\n",
    "s=t.strftime(\"%A, %B, %D, %Y\")\n",
    "print(\"One week ago it was: \" + s)"
   ]
  },
  {
   "cell_type": "code",
   "execution_count": 28,
   "metadata": {},
   "outputs": [
    {
     "name": "stdout",
     "output_type": "stream",
     "text": [
      "It's just  31 days until April Fool's Day\n"
     ]
    }
   ],
   "source": [
    "#how many days until April Fool's Day?\n",
    "\n",
    "today=date.today()\n",
    "afd=date(today.year, 4, 1)\n",
    "if afd<today:\n",
    "    print(\"April Fool's Day already went by %d days ago\" % ((today-afd).days))\n",
    "    afd=afd.replace(year=today.year+1)\n",
    "time_to_afd=afd-today\n",
    "print(\"It's just \", time_to_afd.days, \"days until April Fool's Day\")"
   ]
  },
  {
   "cell_type": "markdown",
   "metadata": {},
   "source": [
    "## 1.7.3. Working with calendars"
   ]
  },
  {
   "cell_type": "code",
   "execution_count": 30,
   "metadata": {},
   "outputs": [],
   "source": [
    "import calendar                             #import calendar module"
   ]
  },
  {
   "cell_type": "code",
   "execution_count": 32,
   "metadata": {},
   "outputs": [
    {
     "name": "stdout",
     "output_type": "stream",
     "text": [
      "     June 2021\n",
      "Mo Tu We Th Fr Sa Su\n",
      "    1  2  3  4  5  6\n",
      " 7  8  9 10 11 12 13\n",
      "14 15 16 17 18 19 20\n",
      "21 22 23 24 25 26 27\n",
      "28 29 30\n",
      "\n"
     ]
    }
   ],
   "source": [
    "c=calendar.TextCalendar(calendar.MONDAY)    #creating plain text calendar\n",
    "st=c.formatmonth(2021, 6, 0, 0)\n",
    "print(st)"
   ]
  },
  {
   "cell_type": "code",
   "execution_count": 33,
   "metadata": {},
   "outputs": [
    {
     "name": "stdout",
     "output_type": "stream",
     "text": [
      "<table border=\"0\" cellpadding=\"0\" cellspacing=\"0\" class=\"month\">\n",
      "<tr><th colspan=\"7\" class=\"month\">June 2020</th></tr>\n",
      "<tr><th class=\"mon\">Mon</th><th class=\"tue\">Tue</th><th class=\"wed\">Wed</th><th class=\"thu\">Thu</th><th class=\"fri\">Fri</th><th class=\"sat\">Sat</th><th class=\"sun\">Sun</th></tr>\n",
      "<tr><td class=\"mon\">1</td><td class=\"tue\">2</td><td class=\"wed\">3</td><td class=\"thu\">4</td><td class=\"fri\">5</td><td class=\"sat\">6</td><td class=\"sun\">7</td></tr>\n",
      "<tr><td class=\"mon\">8</td><td class=\"tue\">9</td><td class=\"wed\">10</td><td class=\"thu\">11</td><td class=\"fri\">12</td><td class=\"sat\">13</td><td class=\"sun\">14</td></tr>\n",
      "<tr><td class=\"mon\">15</td><td class=\"tue\">16</td><td class=\"wed\">17</td><td class=\"thu\">18</td><td class=\"fri\">19</td><td class=\"sat\">20</td><td class=\"sun\">21</td></tr>\n",
      "<tr><td class=\"mon\">22</td><td class=\"tue\">23</td><td class=\"wed\">24</td><td class=\"thu\">25</td><td class=\"fri\">26</td><td class=\"sat\">27</td><td class=\"sun\">28</td></tr>\n",
      "<tr><td class=\"mon\">29</td><td class=\"tue\">30</td><td class=\"noday\">&nbsp;</td><td class=\"noday\">&nbsp;</td><td class=\"noday\">&nbsp;</td><td class=\"noday\">&nbsp;</td><td class=\"noday\">&nbsp;</td></tr>\n",
      "</table>\n",
      "\n"
     ]
    }
   ],
   "source": [
    "hc=calendar.HTMLCalendar(calendar.MONDAY)    #creating HTML calendar\n",
    "st=hc.formatmonth(2020, 6)\n",
    "print(st)"
   ]
  },
  {
   "cell_type": "code",
   "execution_count": 34,
   "metadata": {},
   "outputs": [
    {
     "name": "stdout",
     "output_type": "stream",
     "text": [
      "0\n",
      "1\n",
      "2\n",
      "3\n",
      "4\n",
      "5\n",
      "6\n",
      "7\n",
      "8\n",
      "9\n",
      "10\n",
      "11\n",
      "12\n",
      "13\n",
      "14\n",
      "15\n",
      "16\n",
      "17\n",
      "18\n",
      "19\n",
      "20\n",
      "21\n",
      "22\n",
      "23\n",
      "24\n",
      "25\n",
      "26\n",
      "27\n",
      "28\n",
      "29\n",
      "30\n",
      "0\n",
      "0\n",
      "0\n",
      "0\n"
     ]
    }
   ],
   "source": [
    "for i in c.itermonthdays(2021, 6):\n",
    "    print(i)"
   ]
  },
  {
   "cell_type": "code",
   "execution_count": 35,
   "metadata": {},
   "outputs": [
    {
     "name": "stdout",
     "output_type": "stream",
     "text": [
      "\n",
      "January\n",
      "February\n",
      "March\n",
      "April\n",
      "May\n",
      "June\n",
      "July\n",
      "August\n",
      "September\n",
      "October\n",
      "November\n",
      "December\n",
      "Monday\n",
      "Tuesday\n",
      "Wednesday\n",
      "Thursday\n",
      "Friday\n",
      "Saturday\n",
      "Sunday\n"
     ]
    }
   ],
   "source": [
    "for name in calendar.month_name:\n",
    "    print(name)\n",
    "for day in calendar.day_name:\n",
    "    print(day)"
   ]
  },
  {
   "cell_type": "code",
   "execution_count": 36,
   "metadata": {},
   "outputs": [
    {
     "name": "stdout",
     "output_type": "stream",
     "text": [
      "Team meetings will be on: \n",
      "   January  1\n",
      "  February  5\n",
      "     March  5\n",
      "     April  2\n",
      "       May  7\n",
      "      June  4\n",
      "      July  2\n",
      "    August  6\n",
      " September  3\n",
      "   October  1\n",
      "  November  5\n",
      "  December  3\n"
     ]
    }
   ],
   "source": [
    "# A calendar to return team meeting date for every Friday, begining of every month in 2021\n",
    "\n",
    "print(\"Team meetings will be on: \")\n",
    "for m in range(1,13):\n",
    "    cal=calendar.monthcalendar(2021, m)\n",
    "    weekone=cal[0]\n",
    "    weektwo=cal[1]\n",
    "    \n",
    "    if weekone[calendar.FRIDAY]!=0:\n",
    "        meetday=weekone[calendar.FRIDAY]\n",
    "    else:\n",
    "        meetday=weektwo[calendar.FRIDAY]\n",
    "        \n",
    "    print(\"%10s %2d\" %(calendar.month_name[m], meetday))"
   ]
  },
  {
   "cell_type": "markdown",
   "metadata": {},
   "source": [
    "## 1.8. Reading and Writing Files"
   ]
  },
  {
   "cell_type": "code",
   "execution_count": 38,
   "metadata": {},
   "outputs": [],
   "source": [
    "f=open(\"textfile.txt\", \"w+\")                             #creating a text file\n",
    "for i in range(10):\n",
    "    f.write(\"This is line \" + str(i) + \"\\r\\n\")\n",
    "f.close()"
   ]
  },
  {
   "cell_type": "code",
   "execution_count": 39,
   "metadata": {},
   "outputs": [],
   "source": [
    "f=open(\"textfile.txt\", \"a\")                              #appending the file\n",
    "for i in range(10):\n",
    "    f.write(\"This is line \" + str(i) + \"\\r\\n\")\n",
    "f.close()"
   ]
  },
  {
   "cell_type": "code",
   "execution_count": 40,
   "metadata": {},
   "outputs": [
    {
     "name": "stdout",
     "output_type": "stream",
     "text": [
      "This is line 0\n",
      "\n",
      "This is line 1\n",
      "\n",
      "This is line 2\n",
      "\n",
      "This is line 3\n",
      "\n",
      "This is line 4\n",
      "\n",
      "This is line 5\n",
      "\n",
      "This is line 6\n",
      "\n",
      "This is line 7\n",
      "\n",
      "This is line 8\n",
      "\n",
      "This is line 9\n",
      "\n",
      "This is line 0\n",
      "\n",
      "This is line 1\n",
      "\n",
      "This is line 2\n",
      "\n",
      "This is line 3\n",
      "\n",
      "This is line 4\n",
      "\n",
      "This is line 5\n",
      "\n",
      "This is line 6\n",
      "\n",
      "This is line 7\n",
      "\n",
      "This is line 8\n",
      "\n",
      "This is line 9\n",
      "\n",
      "\n"
     ]
    }
   ],
   "source": [
    "f=open(\"textfile.txt\", \"r\")                             #reading the file  \n",
    "if f.mode=='r':                                         #making sure the file is in 'read' mode\n",
    "    contents=f.read()\n",
    "    print(contents)"
   ]
  },
  {
   "cell_type": "code",
   "execution_count": 41,
   "metadata": {},
   "outputs": [],
   "source": [
    "if f.mode=='r':\n",
    "    fl=f.readlines()\n",
    "    for x in fl:\n",
    "        print(x)"
   ]
  },
  {
   "cell_type": "code",
   "execution_count": 42,
   "metadata": {},
   "outputs": [],
   "source": [
    "import os\n",
    "from os import path\n",
    "import datetime\n",
    "from datetime import date, time, timedelta\n",
    "import time"
   ]
  },
  {
   "cell_type": "code",
   "execution_count": 43,
   "metadata": {},
   "outputs": [
    {
     "name": "stdout",
     "output_type": "stream",
     "text": [
      "nt\n"
     ]
    }
   ],
   "source": [
    "print(os.name)"
   ]
  },
  {
   "cell_type": "code",
   "execution_count": 44,
   "metadata": {},
   "outputs": [
    {
     "name": "stdout",
     "output_type": "stream",
     "text": [
      "Item exists: True\n",
      "Item is a file: True\n",
      "Item is a directory: False\n"
     ]
    }
   ],
   "source": [
    "print(\"Item exists: \" + str(path.exists(\"textfile.txt\")))          #check for item existence and type\n",
    "print(\"Item is a file: \" + str(path.isfile(\"textfile.txt\")))\n",
    "print(\"Item is a directory: \" + str(path.isdir(\"textfile.txt\")))"
   ]
  },
  {
   "cell_type": "code",
   "execution_count": 45,
   "metadata": {},
   "outputs": [
    {
     "name": "stdout",
     "output_type": "stream",
     "text": [
      "Item path: C:\\Users\\Islam Soliman\\testProjectName\\textfile.txt\n",
      "Item path and name: ('C:\\\\Users\\\\Islam Soliman\\\\testProjectName', 'textfile.txt')\n"
     ]
    }
   ],
   "source": [
    "print(\"Item path: \" + str(path.realpath(\"textfile.txt\")))                   #work with file paths\n",
    "print(\"Item path and name: \" + str(path.split(path.realpath(\"textfile.txt\"))))"
   ]
  },
  {
   "cell_type": "code",
   "execution_count": 46,
   "metadata": {},
   "outputs": [
    {
     "name": "stdout",
     "output_type": "stream",
     "text": [
      "Mon Mar  1 06:20:09 2021\n",
      "2021-03-01 06:20:09.089970\n"
     ]
    }
   ],
   "source": [
    "t=time.ctime(path.getmtime(\"textfile.txt\"))                         #detect the modification time\n",
    "print(t)\n",
    "print(datetime.datetime.fromtimestamp(path.getmtime(\"textfile.txt\")))"
   ]
  },
  {
   "cell_type": "code",
   "execution_count": 47,
   "metadata": {},
   "outputs": [
    {
     "name": "stdout",
     "output_type": "stream",
     "text": [
      "It has been 0:02:23.828385 since the file was modified\n",
      "Or, 143.828385 seconds\n"
     ]
    }
   ],
   "source": [
    "td=datetime.datetime.now()-datetime.datetime.fromtimestamp(path.getmtime(\"textfile.txt\"))      #calculate how long ago was file modified\n",
    "print(\"It has been \" + str(td) + \" since the file was modified\")\n",
    "print(\"Or, \" + str(td.total_seconds()) + \" seconds\")"
   ]
  },
  {
   "cell_type": "code",
   "execution_count": 48,
   "metadata": {},
   "outputs": [],
   "source": [
    "import shutil                                #using file system shell methods"
   ]
  },
  {
   "cell_type": "code",
   "execution_count": 49,
   "metadata": {},
   "outputs": [],
   "source": [
    "if path.exists(\"textfile.txt\"):              #make a duplicate of an existing file\n",
    "    src=path.realpath(\"textfile.txt\")        #get the path to the file in the current directory\n",
    "    dst=src+\".bak\"                           #make a backup by appending '.bak' to the name\n",
    "    shutil.copy(src,dst)                     #copy over the permissions, modification  times and other info\n",
    "    shutil.copystat(src,dst)"
   ]
  },
  {
   "cell_type": "code",
   "execution_count": null,
   "metadata": {},
   "outputs": [],
   "source": [
    "os.rename(\"textfile.txt\", \"newfile.txt\")    #renaming the file"
   ]
  },
  {
   "cell_type": "code",
   "execution_count": 51,
   "metadata": {},
   "outputs": [],
   "source": [
    "from shutil import make_archive"
   ]
  },
  {
   "cell_type": "code",
   "execution_count": 52,
   "metadata": {},
   "outputs": [
    {
     "data": {
      "text/plain": [
       "'C:\\\\Users\\\\Islam Soliman\\\\testProjectName\\\\archive.zip'"
      ]
     },
     "execution_count": 52,
     "metadata": {},
     "output_type": "execute_result"
    }
   ],
   "source": [
    "root_dir, tail=path.split(src)              #put things into ZIP archive\n",
    "shutil.make_archive(\"archive\", \"zip\", root_dir)"
   ]
  },
  {
   "cell_type": "code",
   "execution_count": 53,
   "metadata": {},
   "outputs": [],
   "source": [
    "from zipfile import ZipFile"
   ]
  },
  {
   "cell_type": "code",
   "execution_count": null,
   "metadata": {},
   "outputs": [],
   "source": [
    "with ZipFile(\"testzip.zip\", \"w\") as newzip:\n",
    "    newzip.write(\"newfile.txt\")\n",
    "    newzip.write(\"textfile.txt.bak\")"
   ]
  },
  {
   "cell_type": "markdown",
   "metadata": {},
   "source": [
    "## 1.9. Working with Web Data"
   ]
  },
  {
   "cell_type": "code",
   "execution_count": 55,
   "metadata": {},
   "outputs": [],
   "source": [
    "import urllib.request"
   ]
  },
  {
   "cell_type": "code",
   "execution_count": 56,
   "metadata": {},
   "outputs": [
    {
     "name": "stdout",
     "output_type": "stream",
     "text": [
      "result code: 200\n",
      "b'<!doctype html><html dir=\"rtl\" itemscope=\"\" itemtype=\"http://schema.org/WebPage\" lang=\"ar-AE\"><head><meta content=\"text/html; charset=UTF-8\" http-equiv=\"Content-Type\"><meta content=\"/images/branding/googleg/1x/googleg_standard_color_128dp.png\" itemprop=\"image\"><title>Google</title><script nonce=\"EBEzRpZ/ugeT8pZLVf0XIw==\">(function(){window.google={kEI:\\'jVA8YKiOBM7IaOTYmNgD\\',kEXPI:\\'0,1302440,56969,954,756,4348,207,4804,2316,383,246,5,1354,5250,1665,1120851,1233,1196555,495,328984,51224,16114,17444,11240,9188,8384,4858,1362,9291,3020,4747,12841,4998,13228,2054,920,873,4192,6430,14528,4516,2778,919,2277,8,85,2711,1593,1279,2212,530,149,1103,840,517,1469,53,158,4100,312,1137,2,2669,2023,1777,520,4269,329,1283,8789,3227,1726,1120,8,4772,825,6755,5096,7876,4929,108,3407,908,2,941,2614,2397,1386,6084,3275,3,346,230,1835,4624,149,5990,7985,4,1253,275,2304,1236,1,832,312,4081,577,537,43,1211,2892,460,1555,4067,1035,4599,1426,2185,299,3011,1753,2658,4243,518,912,564,464,655,31,5664,2465,2615,2884,2305,638,1494,605,2,892,590,3497,2361,55,1356,4127,1307,587,11,731,665,1054,647,444,3634,2578,479,138,374,1,1962,1140,17,50,99,1905,1067,6,908,3,3541,1,651,3526,773,1067,60,478,444,2295,1151,894,114,489,2768,1187,371,9,2,246,39,243,700,211,3435,437,2,1501,618,1260,239,5,351,599,2,42,17,1015,1120,2104,32,368,32,699,2583,242,45,77,139,433,910,212,2,77,748,513,58,874,96,444,144,364,162,30,155,68,2,120,345,285,1053,7,249,121,2,1182,7,1868,483,331,1163,94,477,56,3012,718,555,391,620,401,32,227,132,31,2,2,608,236,3325,5685307,3869,35,62,37,5997222,2800690,549,333,444,1,2,80,1,1796,1,9,2,2551,1,889,795,2,561,1,4265,1,1,2,1331,3299,248,595,1,2608,155,17,13,72,174,8,1,89,14,10,8,28,6,10,19,46,5,23,3,13,4,12,1,35,23956886,2776206,1234068,268,289,441,2,148,2,772,25120,110,5\\',kBL:\\'iaOK\\'};google.sn=\\'webhp\\';google.kHL=\\'ar-AE\\';})();(function(){\\nvar f=[];google.getEI=function(a){for(var b;a&&(!a.getAttribute||!(b=a.getAttribute(\"eid\")));)a=a.parentNode;return b||google.kEI};google.getLEI=function(a){for(var b=null;a&&(!a.getAttribute||!(b=a.getAttribute(\"leid\")));)a=a.parentNode;return b};google.ml=function(){return null};google.log=function(a,b,c,d,g){if(c=google.logUrl(a,b,c,d,g)){a=new Image;var e=f.length;f[e]=a;a.onerror=a.onload=a.onabort=function(){delete f[e]};a.src=c}};google.logUrl=function(a,b,c,d,g){var e=\"\";c||-1!=b.search(\"&ei=\")||(e=\"&ei=\"+google.getEI(d),-1==b.search(\"&lei=\")&&(d=google.getLEI(d))&&(e+=\"&lei=\"+d));d=\"\";!c&&window._cshid&&-1==b.search(\"&cshid=\")&&\"slh\"!=a&&(d=\"&cshid=\"+window._cshid);c=c||\"/\"+(g||\"gen_204\")+\"?atyp=i&ct=\"+a+\"&cad=\"+b+e+\"&zx=\"+Date.now()+d;/^http:/i.test(c)&&\"https:\"==window.location.protocol&&(google.ml(Error(\"a\"),!1,{src:c,glmm:1}),c=\"\");return c};}).call(this);(function(){google.y={};google.x=function(a,b){if(a)var c=a.id;else{do c=Math.random();while(google.y[c])}google.y[c]=[a,b];return!1};google.lm=[];google.plm=function(a){google.lm.push.apply(google.lm,a)};google.lq=[];google.load=function(a,b,c){google.lq.push([[a],b,c])};google.loadAll=function(a,b){google.lq.push([a,b])};google.bx=!1;google.lx=function(){};}).call(this);google.f={};(function(){\\ndocument.documentElement.addEventListener(\"submit\",function(b){var a;if(a=b.target){var c=a.getAttribute(\"data-submitfalse\");a=\"1\"==c||\"q\"==c&&!a.elements.q.value?!0:!1}else a=!1;a&&(b.preventDefault(),b.stopPropagation())},!0);document.documentElement.addEventListener(\"click\",function(b){var a;a:{for(a=b.target;a&&a!=document.documentElement;a=a.parentElement)if(\"A\"==a.tagName){a=\"1\"==a.getAttribute(\"data-nohref\");break a}a=!1}a&&b.preventDefault()},!0);}).call(this);\\nvar a=window.location,b=a.href.indexOf(\"#\");if(0<=b){var c=a.href.substring(b+1);/(^|&)q=/.test(c)&&-1==c.indexOf(\"#\")&&a.replace(\"/search?\"+c.replace(/(^|&)fp=[^&]*/g,\"\")+\"&cad=h\")};</script><style>#gbar,#guser{font-size:13px;padding-top:1px !important;}#gbar{height:22px}#guser{padding-bottom:7px !important;text-align:left}.gbh,.gbd{border-top:1px solid #c9d7f1;font-size:1px}.gbh{height:0;position:absolute;top:24px;width:100%}@media all{.gb1{height:22px;margin-left:.5em;vertical-align:top}#gbar{float:right}}a.gb1,a.gb4{text-decoration:underline !important}a.gb1,a.gb4{color:#00c !important}.gbi .gb4{color:#dd8e27 !important}.gbf .gb4{color:#900 !important}\\n</style><style>body,td,a,p,.h{font-family:arial,sans-serif}body{margin:0;overflow-y:scroll}#gog{padding:3px 8px 0}td{line-height:.8em}.gac_m td{line-height:17px}form{margin-bottom:20px}.h{color:#1558d6}em{font-weight:bold;font-style:normal}.lst{height:25px;width:496px}.gsfi,.lst{font:18px arial,sans-serif}.gsfs{font:17px arial,sans-serif}.ds{display:inline-box;display:inline-block;margin:3px 0 4px;margin-right:4px}input{font-family:inherit}body{background:#fff;color:#000}a{color:#4b11a8;text-decoration:none}a:hover,a:active{text-decoration:underline}.fl a{color:#1558d6}a:visited{color:#4b11a8}.sblc{padding-top:5px}.sblc a{display:block;margin:2px 0;margin-right:13px;font-size:11px}.lsbb{background:#f8f9fa;border:solid 1px;border-color:#dadce0 #dadce0 #70757a #70757a;height:30px}.lsbb{display:block}#WqQANb a{display:inline-block;margin:0 12px}.lsb{background:url(/images/nav_logo229.png) 0 -261px repeat-x;border:none;color:#000;cursor:pointer;height:30px;margin:0;outline:0;font:15px arial,sans-serif;vertical-align:top}.lsb:active{background:#dadce0}.lst:focus{outline:none}.tiah{width:458px}</style><script nonce=\"EBEzRpZ/ugeT8pZLVf0XIw==\"></script></head><body bgcolor=\"#fff\"><script nonce=\"EBEzRpZ/ugeT8pZLVf0XIw==\">(function(){var src=\\'/images/nav_logo229.png\\';var iesg=false;document.body.onload = function(){window.n && window.n();if (document.images){new Image().src=src;}\\nif (!iesg){document.f&&document.f.q.focus();document.gbqf&&document.gbqf.q.focus();}\\n}\\n})();</script><div id=\"mngb\"><div id=gbar><nobr><b class=gb1>&#1576;&#1581;&#1579;</b> <a class=gb1 href=\"https://www.google.ae/imghp?hl=ar&tab=wi\">&#1589;&#1608;&#1585;</a> <a class=gb1 href=\"https://maps.google.ae/maps?hl=ar&tab=wl\">&#1582;&#1585;&#1575;&#1574;&#1591; Google</a> <a class=gb1 href=\"https://www.youtube.com/?gl=AE&tab=w1\">YouTube</a> <a class=gb1 href=\"https://news.google.com/?tab=wn\">&#1575;&#1604;&#1571;&#1582;&#1576;&#1575;&#1585;</a> <a class=gb1 href=\"https://mail.google.com/mail/?tab=wm\">Gmail</a> <a class=gb1 href=\"https://drive.google.com/?tab=wo\">Drive</a> <a class=gb1 href=\"https://calendar.google.com/calendar?tab=wc\">&#1578;&#1602;&#1608;&#1610;&#1605;</a> <a class=gb1 style=\"text-decoration:none\" href=\"https://www.google.ae/intl/ar/about/products?tab=wh\"><u>&#1575;&#1604;&#1605;&#1586;&#1610;&#1583;</u> &raquo;</a></nobr></div><div id=guser width=100%><nobr><span id=gbn class=gbi></span><span id=gbf class=gbf></span><span id=gbe></span><a href=\"http://www.google.ae/history/optout?hl=ar\" class=gb4>&#1587;&#1616;&#1580;&#1604; &#1576;&#1581;&#1579; &#1575;&#1604;&#1608;&#1610;&#1576;</a> | <a  href=\"/preferences?hl=ar\" class=gb4>&#1575;&#1604;&#1573;&#1593;&#1583;&#1575;&#1583;&#1575;&#1578;</a> | <a target=_top id=gb_70 href=\"https://accounts.google.com/ServiceLogin?hl=ar&passive=true&continue=https://www.google.com/&ec=GAZAAQ\" class=gb4>&#1578;&#1587;&#1580;&#1610;&#1604; &#1575;&#1604;&#1583;&#1582;&#1608;&#1604;</a></nobr></div><div class=gbh style=left:0></div><div class=gbh style=right:0></div></div><center><br clear=\"all\" id=\"lgpd\"><div id=\"lga\"><img alt=\"Google\" height=\"92\" src=\"/images/branding/googlelogo/1x/googlelogo_white_background_color_272x92dp.png\" style=\"padding:28px 0 14px\" width=\"272\" id=\"hplogo\"><br><br></div><form action=\"/search\" name=\"f\"><table cellpadding=\"0\" cellspacing=\"0\"><tr valign=\"top\"><td width=\"25%\">&nbsp;</td><td align=\"center\" nowrap=\"\"><input name=\"ie\" value=\"ISO-8859-1\" type=\"hidden\"><input value=\"ar-AE\" name=\"hl\" type=\"hidden\"><input name=\"source\" type=\"hidden\" value=\"hp\"><input name=\"biw\" type=\"hidden\"><input name=\"bih\" type=\"hidden\"><div class=\"ds\" style=\"height:32px;margin:4px 0\"><div style=\"position:relative;zoom:1\"><input class=\"lst tiah\" style=\"margin:0;padding:5px 6px 0 8px;vertical-align:top;color:#000;padding-left:38px\" autocomplete=\"off\" value=\"\" title=\"&#1576;&#1581;&#1579; Google\" maxlength=\"2048\" name=\"q\" size=\"57\"><img src=\"/textinputassistant/tia.png\" style=\"position:absolute;cursor:pointer;left:5px;top:4px;z-index:300\" data-script-url=\"/textinputassistant/11/ar_tia.js\" id=\"tsuid1\" alt=\"\" height=\"23\" width=\"27\"><script nonce=\"EBEzRpZ/ugeT8pZLVf0XIw==\">(function(){var id=\\'tsuid1\\';document.getElementById(id).onclick = function(){var s = document.createElement(\\'script\\');s.src = this.getAttribute(\\'data-script-url\\');(document.getElementById(\\'xjsc\\')||document.body).appendChild(s);};})();</script></div></div><br style=\"line-height:0\"><span class=\"ds\"><span class=\"lsbb\"><input class=\"lsb\" value=\"&#1576;&#1581;&#1579; Google\" name=\"btnG\" type=\"submit\"></span></span><span class=\"ds\"><span class=\"lsbb\"><input class=\"lsb\" id=\"tsuid2\" value=\"&#1590;&#1585;&#1576;&#1577; &#1581;&#1592;\" name=\"btnI\" type=\"submit\"><script nonce=\"EBEzRpZ/ugeT8pZLVf0XIw==\">(function(){var id=\\'tsuid2\\';document.getElementById(id).onclick = function(){if (this.form.q.value){this.checked = 1;if (this.form.iflsig)this.form.iflsig.disabled = false;}\\nelse top.location=\\'/doodles/\\';};})();</script><input value=\"AINFCbYAAAAAYDxencVwOzLRlE9JinYo3cS_2QRq9dL4\" name=\"iflsig\" type=\"hidden\"></span></span></td><td class=\"fl sblc\" align=\"right\" nowrap=\"\" width=\"25%\"><a href=\"/advanced_search?hl=ar-AE&amp;authuser=0\">&#1576;&#1581;&#1579; &#1605;&#1578;&#1602;&#1583;&#1605;</a></td></tr></table><input id=\"gbv\" name=\"gbv\" type=\"hidden\" value=\"1\"><script nonce=\"EBEzRpZ/ugeT8pZLVf0XIw==\">(function(){var a,b=\"1\";if(document&&document.getElementById)if(\"undefined\"!=typeof XMLHttpRequest)b=\"2\";else if(\"undefined\"!=typeof ActiveXObject){var c,d,e=[\"MSXML2.XMLHTTP.6.0\",\"MSXML2.XMLHTTP.3.0\",\"MSXML2.XMLHTTP\",\"Microsoft.XMLHTTP\"];for(c=0;d=e[c++];)try{new ActiveXObject(d),b=\"2\"}catch(h){}}a=b;if(\"2\"==a&&-1==location.search.indexOf(\"&gbv=2\")){var f=google.gbvu,g=document.getElementById(\"gbv\");g&&(g.value=a);f&&window.setTimeout(function(){location.href=f},0)};}).call(this);</script></form><div id=\"gac_scont\"></div><div style=\"font-size:83%;min-height:3.5em\"><br><div id=\"gws-output-pages-elements-homepage_additional_languages__als\"><style>#gws-output-pages-elements-homepage_additional_languages__als{font-size:small;margin-bottom:24px}#SIvCob{display:inline-block;line-height:28px;}#SIvCob a{padding:0 3px;}.H6sW5{display:inline-block;margin:0 2px;white-space:nowrap}.z4hgWe{display:inline-block;margin:0 2px}</style><div id=\"SIvCob\">&#1605;&#1581;&#1585;&#1617;&#1603; &#1576;&#1581;&#1579; Google &#1605;&#1578;&#1608;&#1601;&#1617;&#1585; &#1576;&#1575;&#1604;&#1604;&#1594;&#1577;:  <a href=\"https://www.google.com/setprefs?sig=0_wzZkm0ojx3TfrB2E_MV0kQq1s1s%3D&amp;hl=fa&amp;source=homepage&amp;sa=X&amp;ved=0ahUKEwjoiPKghY7vAhVOJBoKHWQsBjsQ2ZgBCAU\">&#1601;&#1575;&#1585;&#1587;&#1740;</a>    <a dir=\"ltr\" href=\"https://www.google.com/setprefs?sig=0_wzZkm0ojx3TfrB2E_MV0kQq1s1s%3D&amp;hl=en&amp;source=homepage&amp;sa=X&amp;ved=0ahUKEwjoiPKghY7vAhVOJBoKHWQsBjsQ2ZgBCAY\">English</a>    <a dir=\"ltr\" href=\"https://www.google.com/setprefs?sig=0_wzZkm0ojx3TfrB2E_MV0kQq1s1s%3D&amp;hl=hi&amp;source=homepage&amp;sa=X&amp;ved=0ahUKEwjoiPKghY7vAhVOJBoKHWQsBjsQ2ZgBCAc\">&#2361;&#2367;&#2344;&#2381;&#2342;&#2368;</a>    <a href=\"https://www.google.com/setprefs?sig=0_wzZkm0ojx3TfrB2E_MV0kQq1s1s%3D&amp;hl=ur&amp;source=homepage&amp;sa=X&amp;ved=0ahUKEwjoiPKghY7vAhVOJBoKHWQsBjsQ2ZgBCAg\">&#1575;&#1585;&#1583;&#1608;</a>  </div></div></div><span id=\"footer\"><div style=\"font-size:10pt\"><div style=\"margin:19px auto;text-align:center\" id=\"WqQANb\"><a href=\"/intl/ar/ads/\">&#1575;&#1604;&#1576;&#1585;&#1606;&#1575;&#1605;&#1580; &#1575;&#1604;&#1573;&#1593;&#1604;&#1575;&#1606;&#1610;</a><a href=\"http://www.google.com/intl/ar/services/\">&#1581;&#1604;&#1608;&#1604; &#1575;&#1604;&#1588;&#1585;&#1603;&#1575;&#1578;</a><a href=\"/intl/ar/about.html\">&#1603;&#1604; &#1605;&#1575; &#1578;&#1581;&#1576; &#1605;&#1593;&#1585;&#1601;&#1578;&#1607; &#1593;&#1606; Google &#1607;&#1606;&#1575;</a><a dir=\"ltr\" href=\"https://www.google.com/setprefdomain?prefdom=AE&amp;prev=https://www.google.ae/&amp;sig=K_4w9iIPFREyJ7jZpXqhW0tU3bE50%3D\">Google.ae</a></div></div><p style=\"font-size:8pt;color:#70757a\">&copy; 2021 - <a href=\"/intl/ar/policies/privacy/\">&#1575;&#1604;&#1582;&#1589;&#1608;&#1589;&#1610;&#1577;</a> - <a href=\"/intl/ar/policies/terms/\">&#1575;&#1604;&#1576;&#1606;&#1608;&#1583;</a></p></span></center><script nonce=\"EBEzRpZ/ugeT8pZLVf0XIw==\">(function(){window.google.cdo={height:0,width:0};(function(){var a=window.innerWidth,b=window.innerHeight;if(!a||!b){var c=window.document,d=\"CSS1Compat\"==c.compatMode?c.documentElement:c.body;a=d.clientWidth;b=d.clientHeight}a&&b&&(a!=google.cdo.width||b!=google.cdo.height)&&google.log(\"\",\"\",\"/client_204?&atyp=i&biw=\"+a+\"&bih=\"+b+\"&ei=\"+google.kEI);}).call(this);})();(function(){var u=\\'/xjs/_/js/k\\\\x3dxjs.hp.en.1lxX_HmaJgw.O/m\\\\x3dsb_he,d/am\\\\x3dAHiCOA/d\\\\x3d1/rs\\\\x3dACT90oFVzPX8rhrgXt5woViVFrHSWKzqUA\\';\\nvar d=this||self,e=/^[\\\\w+/_-]+[=]{0,2}$/,f=null,g=function(a){return(a=a.querySelector&&a.querySelector(\"script[nonce]\"))&&(a=a.nonce||a.getAttribute(\"nonce\"))&&e.test(a)?a:\"\"},h=function(a){return a};var l;var n=function(a,b){this.g=b===m?a:\"\"};n.prototype.toString=function(){return this.g+\"\"};var m={};function p(){var a=u;google.lx=function(){q(a);google.lx=function(){}};google.bx||google.lx()}\\nfunction q(a){var b=document;var c=\"SCRIPT\";\"application/xhtml+xml\"===b.contentType&&(c=c.toLowerCase());c=b.createElement(c);if(void 0===l){b=null;var k=d.trustedTypes;if(k&&k.createPolicy){try{b=k.createPolicy(\"goog#html\",{createHTML:h,createScript:h,createScriptURL:h})}catch(r){d.console&&d.console.error(r.message)}l=b}else l=b}a=(b=l)?b.createScriptURL(a):a;a=new n(a,m);c.src=a instanceof n&&a.constructor===n?a.g:\"type_error:TrustedResourceUrl\";(a=c.ownerDocument&&c.ownerDocument.defaultView)&&\\na!=d?a=g(a.document):(null===f&&(f=g(d.document)),a=f);a&&c.setAttribute(\"nonce\",a);google.timers&&google.timers.load&&google.tick&&google.tick(\"load\",\"xjsls\");document.body.appendChild(c)};setTimeout(function(){p()},0);})();(function(){window.google.xjsu=\\'/xjs/_/js/k\\\\x3dxjs.hp.en.1lxX_HmaJgw.O/m\\\\x3dsb_he,d/am\\\\x3dAHiCOA/d\\\\x3d1/rs\\\\x3dACT90oFVzPX8rhrgXt5woViVFrHSWKzqUA\\';})();function _DumpException(e){throw e;}\\nfunction _F_installCss(c){}\\n(function(){google.jl={blt:\\'none\\',dw:false,em:[],emw:false,lls:\\'default\\',pdt:0,snet:true,uwp:true};})();(function(){var pmc=\\'{\\\\x22d\\\\x22:{},\\\\x22sb_he\\\\x22:{\\\\x22agen\\\\x22:true,\\\\x22cgen\\\\x22:true,\\\\x22client\\\\x22:\\\\x22heirloom-hp\\\\x22,\\\\x22dh\\\\x22:true,\\\\x22dhqt\\\\x22:true,\\\\x22ds\\\\x22:\\\\x22\\\\x22,\\\\x22ffql\\\\x22:\\\\x22en\\\\x22,\\\\x22fl\\\\x22:true,\\\\x22host\\\\x22:\\\\x22google.com\\\\x22,\\\\x22isbh\\\\x22:28,\\\\x22jsonp\\\\x22:true,\\\\x22msgs\\\\x22:{\\\\x22cibl\\\\x22:\\\\x22&#1605;&#1581;&#1608; &#1575;&#1604;&#1576;&#1581;&#1579;\\\\x22,\\\\x22dym\\\\x22:\\\\x22&#1607;&#1604; &#1578;&#1602;&#1589;&#1583; :\\\\x22,\\\\x22lcky\\\\x22:\\\\x22&#1590;&#1585;&#1576;&#1577; &#1581;&#1592;\\\\x22,\\\\x22lml\\\\x22:\\\\x22&#1605;&#1586;&#1610;&#1583; &#1605;&#1606; &#1575;&#1604;&#1605;&#1593;&#1604;&#1608;&#1605;&#1575;&#1578;\\\\x22,\\\\x22oskt\\\\x22:\\\\x22&#1571;&#1583;&#1608;&#1575;&#1578; &#1575;&#1604;&#1573;&#1583;&#1582;&#1575;&#1604;\\\\x22,\\\\x22psrc\\\\x22:\\\\x22&#1578;&#1605;&#1578; &#1573;&#1586;&#1575;&#1604;&#1577; &#1607;&#1584;&#1575; &#1575;&#1604;&#1576;&#1581;&#1579; &#1605;&#1606; \\\\\\\\u003Ca href\\\\x3d\\\\\\\\\\\\x22/history\\\\\\\\\\\\x22\\\\\\\\u003E&#1587;&#1616;&#1580;&#1604; &#1575;&#1604;&#1576;&#1581;&#1579;\\\\\\\\u003C/a\\\\\\\\u003E.\\\\x22,\\\\x22psrl\\\\x22:\\\\x22&#1573;&#1586;&#1575;&#1604;&#1577;\\\\x22,\\\\x22sbit\\\\x22:\\\\x22&#1575;&#1604;&#1576;&#1581;&#1579; &#1576;&#1581;&#1587;&#1576; &#1575;&#1604;&#1589;&#1608;&#1585;\\\\x22,\\\\x22srch\\\\x22:\\\\x22&#1576;&#1581;&#1579; Google\\\\u200f\\\\x22},\\\\x22nrft\\\\x22:false,\\\\x22ovr\\\\x22:{},\\\\x22pq\\\\x22:\\\\x22\\\\x22,\\\\x22refpd\\\\x22:true,\\\\x22rfs\\\\x22:[],\\\\x22sbas\\\\x22:\\\\x220 3px 8px 0 rgba(0,0,0,0.2),0 0 0 1px rgba(0,0,0,0.08)\\\\x22,\\\\x22sbpl\\\\x22:16,\\\\x22sbpr\\\\x22:16,\\\\x22scd\\\\x22:10,\\\\x22stok\\\\x22:\\\\x22Nt6rZMJC8umIiX1M-72RFw7kip0\\\\x22,\\\\x22uhde\\\\x22:false}}\\';google.pmc=JSON.parse(pmc);})();</script>        </body></html>'\n"
     ]
    }
   ],
   "source": [
    "def main():\n",
    "    webUrl=urllib.request.urlopen(\"https://www.google.com\")\n",
    "    print(\"result code: \" + str(webUrl.getcode()))   \n",
    "    data=webUrl.read()\n",
    "    print(data)\n",
    "main()"
   ]
  },
  {
   "cell_type": "code",
   "execution_count": null,
   "metadata": {},
   "outputs": [],
   "source": []
  }
 ],
 "metadata": {
  "kernelspec": {
   "display_name": "Python 3",
   "language": "python",
   "name": "python3"
  },
  "language_info": {
   "codemirror_mode": {
    "name": "ipython",
    "version": 3
   },
   "file_extension": ".py",
   "mimetype": "text/x-python",
   "name": "python",
   "nbconvert_exporter": "python",
   "pygments_lexer": "ipython3",
   "version": "3.8.5"
  }
 },
 "nbformat": 4,
 "nbformat_minor": 4
}
